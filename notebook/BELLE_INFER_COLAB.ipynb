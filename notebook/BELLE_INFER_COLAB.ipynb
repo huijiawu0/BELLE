{
  "cells": [
    {
      "cell_type": "markdown",
      "metadata": {
        "id": "7m81oxz-sGgM"
      },
      "source": [
        "[![Open In Colab](https://colab.research.google.com/assets/colab-badge.svg)](https://colab.research.google.com/github/LianjiaTech/BELLE/blob/main/notebook/BELLE_INFER_COLAB.ipynb) "
      ]
    },
    {
      "attachments": {},
      "cell_type": "markdown",
      "metadata": {
        "id": "p70s1UElROWa"
      },
      "source": [
        "# ** BELLE模型在COLAB推理的示例** (目前由于机器配置，只有colab pro账户才能成功运行，正在优化中)\n",
        "这里提供在colab环境运行BELLE模型的代码。默认加载的是8bit量化的BLOOM 7B模型，在模型加载到内存过程中，最高消费RAM大概需要20G，等模型load到GPU中以后，RAM只需要10G，GPU大概需要10G。 目前colab环境免费账户RAM 只有12G，所以暂时无法运行。需要将runtime -> change runtime type ->Runtime shape->High RAM.然后运行。\n"
      ]
    },
    {
      "cell_type": "markdown",
      "metadata": {
        "id": "QUt9JenaRViP"
      },
      "source": [
        "## 查看colab分配的显卡类型，一般免费账户上14G的T4显卡"
      ]
    },
    {
      "cell_type": "markdown",
      "metadata": {
        "id": "ORaFqtT6QV4c"
      },
      "source": [
        "\n",
        "\n",
        "---\n",
        "\n"
      ]
    },
    {
      "cell_type": "code",
      "execution_count": null,
      "metadata": {
        "colab": {
          "base_uri": "https://localhost:8080/"
        },
        "id": "BLwfc3zuPqmK",
        "outputId": "72ab9dde-7d26-49ed-835c-eff0d10f81fe"
      },
      "outputs": [
        {
          "name": "stdout",
          "output_type": "stream",
          "text": [
            "Wed Apr 12 13:27:44 2023       \n",
            "+-----------------------------------------------------------------------------+\n",
            "| NVIDIA-SMI 525.85.12    Driver Version: 525.85.12    CUDA Version: 12.0     |\n",
            "|-------------------------------+----------------------+----------------------+\n",
            "| GPU  Name        Persistence-M| Bus-Id        Disp.A | Volatile Uncorr. ECC |\n",
            "| Fan  Temp  Perf  Pwr:Usage/Cap|         Memory-Usage | GPU-Util  Compute M. |\n",
            "|                               |                      |               MIG M. |\n",
            "|===============================+======================+======================|\n",
            "|   0  Tesla T4            Off  | 00000000:00:04.0 Off |                    0 |\n",
            "| N/A   40C    P8     9W /  70W |      0MiB / 15360MiB |      0%      Default |\n",
            "|                               |                      |                  N/A |\n",
            "+-------------------------------+----------------------+----------------------+\n",
            "                                                                               \n",
            "+-----------------------------------------------------------------------------+\n",
            "| Processes:                                                                  |\n",
            "|  GPU   GI   CI        PID   Type   Process name                  GPU Memory |\n",
            "|        ID   ID                                                   Usage      |\n",
            "|=============================================================================|\n",
            "|  No running processes found                                                 |\n",
            "+-----------------------------------------------------------------------------+\n"
          ]
        }
      ],
      "source": [
        "!nvidia-smi"
      ]
    },
    {
      "cell_type": "markdown",
      "metadata": {
        "id": "w8ZvOYEKRl-N"
      },
      "source": [
        "##  将BELLE项目git clone到colab"
      ]
    },
    {
      "cell_type": "code",
      "execution_count": null,
      "metadata": {
        "colab": {
          "base_uri": "https://localhost:8080/"
        },
        "id": "_zSYeftDDS3l",
        "outputId": "6591bdfd-ca7f-4203-87fa-1928cb851080"
      },
      "outputs": [
        {
          "name": "stdout",
          "output_type": "stream",
          "text": [
            "fatal: destination path 'BELLE' already exists and is not an empty directory.\n"
          ]
        }
      ],
      "source": [
        "!git clone https://github.com/LianjiaTech/BELLE.git \n"
      ]
    },
    {
      "cell_type": "markdown",
      "metadata": {
        "id": "5u8KiaitR3Yt"
      },
      "source": [
        "### 14G显卡目前只支持量化版本，这里暂时只提供量化版本在colab推理"
      ]
    },
    {
      "cell_type": "code",
      "execution_count": null,
      "metadata": {
        "colab": {
          "base_uri": "https://localhost:8080/"
        },
        "id": "xEzcL3t7DkAW",
        "outputId": "ec4ba509-d13e-438f-98b3-b0e7ecdeab4e"
      },
      "outputs": [
        {
          "name": "stdout",
          "output_type": "stream",
          "text": [
            "/content/BELLE/gptq\n"
          ]
        }
      ],
      "source": [
        "%cd BELLE/gptq"
      ]
    },
    {
      "cell_type": "markdown",
      "metadata": {
        "id": "QpGt4F3BSLW-"
      },
      "source": [
        "### 安装gptq环境"
      ]
    },
    {
      "cell_type": "code",
      "execution_count": null,
      "metadata": {
        "colab": {
          "base_uri": "https://localhost:8080/"
        },
        "id": "Wd9frauTDx8t",
        "outputId": "a839c847-1c49-4bb4-fa54-6b18cb145596"
      },
      "outputs": [
        {
          "name": "stdout",
          "output_type": "stream",
          "text": [
            "Looking in indexes: https://pypi.org/simple, https://us-python.pkg.dev/colab-wheels/public/simple/\n",
            "Collecting git+https://github.com/huggingface/transformers (from -r requirements.txt (line 4))\n",
            "  Cloning https://github.com/huggingface/transformers to /tmp/pip-req-build-_uy73j4z\n",
            "  Running command git clone --filter=blob:none --quiet https://github.com/huggingface/transformers /tmp/pip-req-build-_uy73j4z\n",
            "  Resolved https://github.com/huggingface/transformers to commit 370f0ca18c8e4577357df59936e790acdecef4ac\n",
            "  Installing build dependencies ... \u001b[?25l\u001b[?25hdone\n",
            "  Getting requirements to build wheel ... \u001b[?25l\u001b[?25hdone\n",
            "  Preparing metadata (pyproject.toml) ... \u001b[?25l\u001b[?25hdone\n",
            "Requirement already satisfied: safetensors==0.3.0 in /usr/local/lib/python3.9/dist-packages (from -r requirements.txt (line 1)) (0.3.0)\n",
            "Requirement already satisfied: datasets==2.10.1 in /usr/local/lib/python3.9/dist-packages (from -r requirements.txt (line 2)) (2.10.1)\n",
            "Requirement already satisfied: sentencepiece in /usr/local/lib/python3.9/dist-packages (from -r requirements.txt (line 3)) (0.1.98)\n",
            "Requirement already satisfied: dill<0.3.7,>=0.3.0 in /usr/local/lib/python3.9/dist-packages (from datasets==2.10.1->-r requirements.txt (line 2)) (0.3.6)\n",
            "Requirement already satisfied: packaging in /usr/local/lib/python3.9/dist-packages (from datasets==2.10.1->-r requirements.txt (line 2)) (23.0)\n",
            "Requirement already satisfied: pyyaml>=5.1 in /usr/local/lib/python3.9/dist-packages (from datasets==2.10.1->-r requirements.txt (line 2)) (6.0)\n",
            "Requirement already satisfied: multiprocess in /usr/local/lib/python3.9/dist-packages (from datasets==2.10.1->-r requirements.txt (line 2)) (0.70.14)\n",
            "Requirement already satisfied: responses<0.19 in /usr/local/lib/python3.9/dist-packages (from datasets==2.10.1->-r requirements.txt (line 2)) (0.18.0)\n",
            "Requirement already satisfied: huggingface-hub<1.0.0,>=0.2.0 in /usr/local/lib/python3.9/dist-packages (from datasets==2.10.1->-r requirements.txt (line 2)) (0.13.4)\n",
            "Requirement already satisfied: pyarrow>=6.0.0 in /usr/local/lib/python3.9/dist-packages (from datasets==2.10.1->-r requirements.txt (line 2)) (9.0.0)\n",
            "Requirement already satisfied: aiohttp in /usr/local/lib/python3.9/dist-packages (from datasets==2.10.1->-r requirements.txt (line 2)) (3.8.4)\n",
            "Requirement already satisfied: numpy>=1.17 in /usr/local/lib/python3.9/dist-packages (from datasets==2.10.1->-r requirements.txt (line 2)) (1.22.4)\n",
            "Requirement already satisfied: fsspec[http]>=2021.11.1 in /usr/local/lib/python3.9/dist-packages (from datasets==2.10.1->-r requirements.txt (line 2)) (2023.3.0)\n",
            "Requirement already satisfied: tqdm>=4.62.1 in /usr/local/lib/python3.9/dist-packages (from datasets==2.10.1->-r requirements.txt (line 2)) (4.65.0)\n",
            "Requirement already satisfied: requests>=2.19.0 in /usr/local/lib/python3.9/dist-packages (from datasets==2.10.1->-r requirements.txt (line 2)) (2.27.1)\n",
            "Requirement already satisfied: xxhash in /usr/local/lib/python3.9/dist-packages (from datasets==2.10.1->-r requirements.txt (line 2)) (3.2.0)\n",
            "Requirement already satisfied: pandas in /usr/local/lib/python3.9/dist-packages (from datasets==2.10.1->-r requirements.txt (line 2)) (1.5.3)\n",
            "Requirement already satisfied: filelock in /usr/local/lib/python3.9/dist-packages (from transformers==4.28.0.dev0->-r requirements.txt (line 4)) (3.11.0)\n",
            "Requirement already satisfied: regex!=2019.12.17 in /usr/local/lib/python3.9/dist-packages (from transformers==4.28.0.dev0->-r requirements.txt (line 4)) (2022.10.31)\n",
            "Requirement already satisfied: tokenizers!=0.11.3,<0.14,>=0.11.1 in /usr/local/lib/python3.9/dist-packages (from transformers==4.28.0.dev0->-r requirements.txt (line 4)) (0.13.3)\n",
            "Requirement already satisfied: attrs>=17.3.0 in /usr/local/lib/python3.9/dist-packages (from aiohttp->datasets==2.10.1->-r requirements.txt (line 2)) (22.2.0)\n",
            "Requirement already satisfied: aiosignal>=1.1.2 in /usr/local/lib/python3.9/dist-packages (from aiohttp->datasets==2.10.1->-r requirements.txt (line 2)) (1.3.1)\n",
            "Requirement already satisfied: yarl<2.0,>=1.0 in /usr/local/lib/python3.9/dist-packages (from aiohttp->datasets==2.10.1->-r requirements.txt (line 2)) (1.8.2)\n",
            "Requirement already satisfied: charset-normalizer<4.0,>=2.0 in /usr/local/lib/python3.9/dist-packages (from aiohttp->datasets==2.10.1->-r requirements.txt (line 2)) (2.0.12)\n",
            "Requirement already satisfied: async-timeout<5.0,>=4.0.0a3 in /usr/local/lib/python3.9/dist-packages (from aiohttp->datasets==2.10.1->-r requirements.txt (line 2)) (4.0.2)\n",
            "Requirement already satisfied: frozenlist>=1.1.1 in /usr/local/lib/python3.9/dist-packages (from aiohttp->datasets==2.10.1->-r requirements.txt (line 2)) (1.3.3)\n",
            "Requirement already satisfied: multidict<7.0,>=4.5 in /usr/local/lib/python3.9/dist-packages (from aiohttp->datasets==2.10.1->-r requirements.txt (line 2)) (6.0.4)\n",
            "Requirement already satisfied: typing-extensions>=3.7.4.3 in /usr/local/lib/python3.9/dist-packages (from huggingface-hub<1.0.0,>=0.2.0->datasets==2.10.1->-r requirements.txt (line 2)) (4.5.0)\n",
            "Requirement already satisfied: urllib3<1.27,>=1.21.1 in /usr/local/lib/python3.9/dist-packages (from requests>=2.19.0->datasets==2.10.1->-r requirements.txt (line 2)) (1.26.15)\n",
            "Requirement already satisfied: idna<4,>=2.5 in /usr/local/lib/python3.9/dist-packages (from requests>=2.19.0->datasets==2.10.1->-r requirements.txt (line 2)) (3.4)\n",
            "Requirement already satisfied: certifi>=2017.4.17 in /usr/local/lib/python3.9/dist-packages (from requests>=2.19.0->datasets==2.10.1->-r requirements.txt (line 2)) (2022.12.7)\n",
            "Requirement already satisfied: python-dateutil>=2.8.1 in /usr/local/lib/python3.9/dist-packages (from pandas->datasets==2.10.1->-r requirements.txt (line 2)) (2.8.2)\n",
            "Requirement already satisfied: pytz>=2020.1 in /usr/local/lib/python3.9/dist-packages (from pandas->datasets==2.10.1->-r requirements.txt (line 2)) (2022.7.1)\n",
            "Requirement already satisfied: six>=1.5 in /usr/local/lib/python3.9/dist-packages (from python-dateutil>=2.8.1->pandas->datasets==2.10.1->-r requirements.txt (line 2)) (1.16.0)\n"
          ]
        }
      ],
      "source": [
        "!pip install -r requirements.txt"
      ]
    },
    {
      "cell_type": "code",
      "execution_count": null,
      "metadata": {
        "colab": {
          "base_uri": "https://localhost:8080/"
        },
        "id": "wT0Gq7tkEWs6",
        "outputId": "cc6035bd-da04-4085-b5da-7a3a509512f4"
      },
      "outputs": [
        {
          "name": "stdout",
          "output_type": "stream",
          "text": [
            "running install\n",
            "/usr/local/lib/python3.9/dist-packages/setuptools/command/install.py:34: SetuptoolsDeprecationWarning: setup.py install is deprecated. Use build and pip and other standards-based tools.\n",
            "  warnings.warn(\n",
            "/usr/local/lib/python3.9/dist-packages/setuptools/command/easy_install.py:144: EasyInstallDeprecationWarning: easy_install command is deprecated. Use build and pip and other standards-based tools.\n",
            "  warnings.warn(\n",
            "running bdist_egg\n",
            "running egg_info\n",
            "writing quant_cuda.egg-info/PKG-INFO\n",
            "writing dependency_links to quant_cuda.egg-info/dependency_links.txt\n",
            "writing top-level names to quant_cuda.egg-info/top_level.txt\n",
            "/usr/local/lib/python3.9/dist-packages/torch/utils/cpp_extension.py:476: UserWarning: Attempted to use ninja as the BuildExtension backend but we could not find ninja.. Falling back to using the slow distutils backend.\n",
            "  warnings.warn(msg.format('we could not find ninja.'))\n",
            "reading manifest file 'quant_cuda.egg-info/SOURCES.txt'\n",
            "writing manifest file 'quant_cuda.egg-info/SOURCES.txt'\n",
            "installing library code to build/bdist.linux-x86_64/egg\n",
            "running install_lib\n",
            "running build_ext\n",
            "/usr/local/lib/python3.9/dist-packages/torch/utils/cpp_extension.py:398: UserWarning: There are no x86_64-linux-gnu-g++ version bounds defined for CUDA version 11.8\n",
            "  warnings.warn(f'There are no {compiler_name} version bounds defined for CUDA version {cuda_str_version}')\n",
            "creating build/bdist.linux-x86_64/egg\n",
            "copying build/lib.linux-x86_64-3.9/quant_cuda.cpython-39-x86_64-linux-gnu.so -> build/bdist.linux-x86_64/egg\n",
            "creating stub loader for quant_cuda.cpython-39-x86_64-linux-gnu.so\n",
            "byte-compiling build/bdist.linux-x86_64/egg/quant_cuda.py to quant_cuda.cpython-39.pyc\n",
            "creating build/bdist.linux-x86_64/egg/EGG-INFO\n",
            "copying quant_cuda.egg-info/PKG-INFO -> build/bdist.linux-x86_64/egg/EGG-INFO\n",
            "copying quant_cuda.egg-info/SOURCES.txt -> build/bdist.linux-x86_64/egg/EGG-INFO\n",
            "copying quant_cuda.egg-info/dependency_links.txt -> build/bdist.linux-x86_64/egg/EGG-INFO\n",
            "copying quant_cuda.egg-info/top_level.txt -> build/bdist.linux-x86_64/egg/EGG-INFO\n",
            "writing build/bdist.linux-x86_64/egg/EGG-INFO/native_libs.txt\n",
            "zip_safe flag not set; analyzing archive contents...\n",
            "__pycache__.quant_cuda.cpython-39: module references __file__\n",
            "creating 'dist/quant_cuda-0.0.0-py3.9-linux-x86_64.egg' and adding 'build/bdist.linux-x86_64/egg' to it\n",
            "removing 'build/bdist.linux-x86_64/egg' (and everything under it)\n",
            "Processing quant_cuda-0.0.0-py3.9-linux-x86_64.egg\n",
            "removing '/usr/local/lib/python3.9/dist-packages/quant_cuda-0.0.0-py3.9-linux-x86_64.egg' (and everything under it)\n",
            "creating /usr/local/lib/python3.9/dist-packages/quant_cuda-0.0.0-py3.9-linux-x86_64.egg\n",
            "Extracting quant_cuda-0.0.0-py3.9-linux-x86_64.egg to /usr/local/lib/python3.9/dist-packages\n",
            "quant-cuda 0.0.0 is already the active version in easy-install.pth\n",
            "\n",
            "Installed /usr/local/lib/python3.9/dist-packages/quant_cuda-0.0.0-py3.9-linux-x86_64.egg\n",
            "Processing dependencies for quant-cuda==0.0.0\n",
            "Finished processing dependencies for quant-cuda==0.0.0\n",
            "Benchmarking LLaMa-7B FC2 matvec ...\n",
            "FP16: 0.0007245347499847412\n",
            "2bit: 0.001169912576675415\n",
            "3bit: 0.0009285659790039063\n",
            "4bit: 0.0008679280281066894\n",
            "8bit: 0.0006778361797332764\n",
            "Verifiying kernel correctness ...\n",
            "2bit Simu: tensor([[[-0.8922,  0.0344, -0.1198,  ...,  0.3833,  1.0677,  0.4062],\n",
            "         [ 0.9649, -0.7322, -0.0280,  ...,  1.1252, -0.1968, -0.4469],\n",
            "         [ 0.4645,  0.3353,  0.1381,  ..., -0.6812, -0.2583, -0.0310],\n",
            "         ...,\n",
            "         [ 0.5240,  0.2661,  0.6934,  ...,  0.5509, -0.8088, -0.1336],\n",
            "         [ 0.1499, -0.1110,  0.8905,  ...,  0.2232,  0.6078,  0.2876],\n",
            "         [ 0.1807,  0.1073,  0.9539,  ...,  0.3506,  0.2720,  0.8378]],\n",
            "\n",
            "        [[ 0.3702, -0.4007, -0.8334,  ...,  0.5269, -0.8593,  0.3429],\n",
            "         [ 0.3369,  0.0650, -0.0866,  ...,  0.8117, -0.3562,  1.1401],\n",
            "         [ 0.9851, -0.7439, -0.4188,  ..., -0.6169,  0.5682, -0.5228],\n",
            "         ...,\n",
            "         [ 0.1069,  0.4757, -0.0670,  ...,  0.0534,  0.0377,  0.4908],\n",
            "         [-0.1090, -0.1659,  0.4755,  ..., -0.8502,  0.5430,  0.2793],\n",
            "         [-0.9219,  0.8053, -0.2523,  ...,  0.6890,  0.0080, -0.1092]],\n",
            "\n",
            "        [[-0.2430,  0.2242, -0.2466,  ...,  0.7156, -0.8705, -0.1545],\n",
            "         [ 0.5060, -0.2906, -0.6884,  ...,  0.1965, -0.6441,  0.3777],\n",
            "         [-0.1491, -0.3288,  0.1066,  ..., -0.4834, -0.0361,  0.3513],\n",
            "         ...,\n",
            "         [-0.2362, -0.1713, -0.1861,  ..., -0.4077, -0.2559, -0.4872],\n",
            "         [-0.9240,  0.0582, -0.5831,  ...,  0.5223,  0.0464,  0.2613],\n",
            "         [-0.7016, -0.3435, -0.2379,  ..., -0.2719, -0.0998,  0.1346]],\n",
            "\n",
            "        [[ 0.5861, -0.0782, -1.0147,  ..., -0.5280,  0.4676,  1.0613],\n",
            "         [-0.4276, -0.0068,  0.1105,  ..., -0.8893, -0.1733, -0.4842],\n",
            "         [ 0.8542, -0.9528, -0.0426,  ...,  0.2966, -0.4788, -0.1739],\n",
            "         ...,\n",
            "         [ 0.3028,  0.3715, -0.0068,  ..., -0.3756, -0.7030, -0.4460],\n",
            "         [-0.0603,  0.4553, -0.5607,  ...,  0.2047, -0.2098,  0.3428],\n",
            "         [ 0.6396, -0.5042, -1.1962,  ..., -0.8544,  0.1632, -1.4876]],\n",
            "\n",
            "        [[-0.7439, -0.0366,  1.0594,  ..., -0.4050,  0.2175, -0.7757],\n",
            "         [ 0.7960, -0.7182, -0.7269,  ..., -0.9193,  0.3395, -0.6574],\n",
            "         [ 0.1691,  0.6863, -0.0154,  ..., -0.5869, -1.4504, -0.4506],\n",
            "         ...,\n",
            "         [ 0.1927, -0.2619, -0.1502,  ..., -0.6384,  0.2824, -0.8119],\n",
            "         [ 0.1324,  0.1115, -0.9185,  ..., -0.6711,  1.1804,  0.6514],\n",
            "         [-0.4615, -1.4002, -0.2065,  ..., -0.1544, -0.4389, -0.2975]]],\n",
            "       device='cuda:0')\n",
            "2bit Kern: tensor([[[-0.8922,  0.0344, -0.1198,  ...,  0.3833,  1.0677,  0.4062],\n",
            "         [ 0.9649, -0.7322, -0.0280,  ...,  1.1252, -0.1968, -0.4469],\n",
            "         [ 0.4645,  0.3353,  0.1381,  ..., -0.6812, -0.2583, -0.0310],\n",
            "         ...,\n",
            "         [ 0.5240,  0.2661,  0.6934,  ...,  0.5509, -0.8088, -0.1336],\n",
            "         [ 0.1499, -0.1110,  0.8905,  ...,  0.2232,  0.6078,  0.2876],\n",
            "         [ 0.1807,  0.1073,  0.9539,  ...,  0.3506,  0.2720,  0.8378]],\n",
            "\n",
            "        [[ 0.3702, -0.4007, -0.8334,  ...,  0.5269, -0.8593,  0.3429],\n",
            "         [ 0.3369,  0.0650, -0.0866,  ...,  0.8117, -0.3562,  1.1401],\n",
            "         [ 0.9851, -0.7439, -0.4188,  ..., -0.6169,  0.5682, -0.5228],\n",
            "         ...,\n",
            "         [ 0.1069,  0.4757, -0.0670,  ...,  0.0534,  0.0377,  0.4908],\n",
            "         [-0.1090, -0.1659,  0.4755,  ..., -0.8502,  0.5430,  0.2793],\n",
            "         [-0.9219,  0.8053, -0.2523,  ...,  0.6890,  0.0080, -0.1092]],\n",
            "\n",
            "        [[-0.2430,  0.2242, -0.2466,  ...,  0.7156, -0.8705, -0.1545],\n",
            "         [ 0.5060, -0.2906, -0.6884,  ...,  0.1965, -0.6441,  0.3777],\n",
            "         [-0.1491, -0.3288,  0.1066,  ..., -0.4834, -0.0361,  0.3513],\n",
            "         ...,\n",
            "         [-0.2362, -0.1713, -0.1861,  ..., -0.4077, -0.2559, -0.4872],\n",
            "         [-0.9240,  0.0582, -0.5831,  ...,  0.5223,  0.0464,  0.2613],\n",
            "         [-0.7016, -0.3435, -0.2379,  ..., -0.2719, -0.0998,  0.1346]],\n",
            "\n",
            "        [[ 0.5861, -0.0782, -1.0147,  ..., -0.5280,  0.4676,  1.0613],\n",
            "         [-0.4276, -0.0068,  0.1105,  ..., -0.8893, -0.1733, -0.4842],\n",
            "         [ 0.8542, -0.9528, -0.0426,  ...,  0.2966, -0.4788, -0.1739],\n",
            "         ...,\n",
            "         [ 0.3028,  0.3715, -0.0068,  ..., -0.3756, -0.7030, -0.4460],\n",
            "         [-0.0603,  0.4553, -0.5607,  ...,  0.2047, -0.2098,  0.3428],\n",
            "         [ 0.6396, -0.5042, -1.1962,  ..., -0.8544,  0.1632, -1.4876]],\n",
            "\n",
            "        [[-0.7439, -0.0366,  1.0594,  ..., -0.4050,  0.2175, -0.7757],\n",
            "         [ 0.7960, -0.7182, -0.7269,  ..., -0.9193,  0.3395, -0.6574],\n",
            "         [ 0.1691,  0.6863, -0.0154,  ..., -0.5869, -1.4504, -0.4506],\n",
            "         ...,\n",
            "         [ 0.1927, -0.2619, -0.1502,  ..., -0.6384,  0.2824, -0.8119],\n",
            "         [ 0.1324,  0.1115, -0.9185,  ..., -0.6711,  1.1804,  0.6514],\n",
            "         [-0.4615, -1.4002, -0.2065,  ..., -0.1544, -0.4389, -0.2975]]],\n",
            "       device='cuda:0')\n",
            "\n",
            "\n",
            "3bit Simu: tensor([[[-0.3004, -0.2613,  0.5657,  ..., -0.2457,  0.5142,  1.0502],\n",
            "         [-0.0626, -0.2048, -0.0724,  ..., -0.0255,  0.3131,  0.4308],\n",
            "         [-0.3654, -0.3927, -0.3514,  ..., -0.6007,  0.4903, -0.1944],\n",
            "         ...,\n",
            "         [ 0.3935, -0.4366,  0.0442,  ...,  0.5961,  0.6780,  0.4964],\n",
            "         [ 0.0952, -0.1421,  0.3897,  ..., -0.0563,  0.1575, -0.5410],\n",
            "         [ 0.2751,  0.3261,  0.3161,  ...,  0.5490,  0.5300,  0.3519]],\n",
            "\n",
            "        [[-1.2460, -0.1597, -0.3207,  ..., -0.5897,  0.1459, -1.6127],\n",
            "         [ 0.7850,  0.0337,  0.4783,  ..., -0.9270, -0.3366,  0.6870],\n",
            "         [ 0.3154, -1.2065, -0.1388,  ..., -0.0142,  0.1336,  1.0844],\n",
            "         ...,\n",
            "         [ 0.3936, -0.7229, -0.5557,  ..., -0.8066,  0.3736, -0.0794],\n",
            "         [ 0.5604,  0.8984,  0.7687,  ..., -0.6936,  0.1121,  0.7206],\n",
            "         [-0.4131, -0.6278,  0.6402,  ..., -0.9036,  0.5099, -0.1984]],\n",
            "\n",
            "        [[-0.7828, -0.7217,  0.9707,  ...,  0.2045, -0.6459,  0.1648],\n",
            "         [-0.0868,  0.5077, -0.1263,  ...,  0.0292,  0.6376,  0.3967],\n",
            "         [ 0.1061, -0.4166,  0.9254,  ...,  0.9551, -0.1735,  0.6971],\n",
            "         ...,\n",
            "         [ 0.3663,  0.3410, -1.0106,  ...,  0.5275, -1.0121, -0.7597],\n",
            "         [ 0.0020, -0.3842,  0.3267,  ..., -0.9576,  0.1518,  0.5186],\n",
            "         [ 0.4579, -0.1217, -0.4298,  ..., -0.4974,  0.0705,  0.6518]],\n",
            "\n",
            "        [[ 0.0192,  0.3112, -0.5706,  ..., -0.6247,  0.8528, -0.6230],\n",
            "         [ 0.1264, -0.1215,  0.1734,  ...,  0.7106,  0.1794,  0.4186],\n",
            "         [ 0.2086,  0.8264, -0.5962,  ...,  0.2043, -1.3412,  0.2797],\n",
            "         ...,\n",
            "         [ 0.4864,  0.3056,  0.2133,  ..., -0.1593,  0.6022,  0.2288],\n",
            "         [-0.2700, -0.6756, -0.9403,  ...,  0.1904,  0.6443,  0.3244],\n",
            "         [ 0.1856,  0.0252,  0.1971,  ...,  0.4267,  0.0651, -0.8110]],\n",
            "\n",
            "        [[ 0.6389, -0.4220, -0.8252,  ...,  0.9612, -0.7115,  0.1113],\n",
            "         [-0.5895,  0.4169, -0.4291,  ...,  0.1409,  0.0302,  0.2846],\n",
            "         [-0.6561,  0.5847, -0.7094,  ..., -0.4205, -0.2066,  0.0431],\n",
            "         ...,\n",
            "         [-0.6304, -0.4198, -0.0641,  ...,  0.0459,  1.0716,  0.0565],\n",
            "         [-0.8242, -0.4115, -0.7428,  ...,  0.0415,  0.7887, -1.1743],\n",
            "         [ 0.2815, -0.1094,  0.2511,  ...,  0.5749, -0.7630, -0.4441]]],\n",
            "       device='cuda:0')\n",
            "3bit Kern: tensor([[[-0.3004, -0.2613,  0.5657,  ..., -0.2457,  0.5142,  1.0502],\n",
            "         [-0.0626, -0.2048, -0.0724,  ..., -0.0255,  0.3131,  0.4308],\n",
            "         [-0.3654, -0.3927, -0.3514,  ..., -0.6007,  0.4903, -0.1944],\n",
            "         ...,\n",
            "         [ 0.3935, -0.4366,  0.0442,  ...,  0.5961,  0.6780,  0.4964],\n",
            "         [ 0.0952, -0.1421,  0.3897,  ..., -0.0563,  0.1575, -0.5410],\n",
            "         [ 0.2751,  0.3261,  0.3161,  ...,  0.5490,  0.5300,  0.3519]],\n",
            "\n",
            "        [[-1.2460, -0.1597, -0.3207,  ..., -0.5897,  0.1459, -1.6127],\n",
            "         [ 0.7850,  0.0337,  0.4783,  ..., -0.9270, -0.3366,  0.6870],\n",
            "         [ 0.3154, -1.2065, -0.1388,  ..., -0.0142,  0.1336,  1.0844],\n",
            "         ...,\n",
            "         [ 0.3936, -0.7229, -0.5557,  ..., -0.8066,  0.3736, -0.0794],\n",
            "         [ 0.5604,  0.8984,  0.7687,  ..., -0.6936,  0.1121,  0.7206],\n",
            "         [-0.4131, -0.6278,  0.6402,  ..., -0.9036,  0.5099, -0.1984]],\n",
            "\n",
            "        [[-0.7828, -0.7217,  0.9707,  ...,  0.2045, -0.6459,  0.1648],\n",
            "         [-0.0868,  0.5077, -0.1263,  ...,  0.0292,  0.6376,  0.3967],\n",
            "         [ 0.1061, -0.4166,  0.9254,  ...,  0.9551, -0.1735,  0.6971],\n",
            "         ...,\n",
            "         [ 0.3663,  0.3410, -1.0106,  ...,  0.5275, -1.0121, -0.7597],\n",
            "         [ 0.0020, -0.3842,  0.3267,  ..., -0.9576,  0.1518,  0.5186],\n",
            "         [ 0.4579, -0.1217, -0.4298,  ..., -0.4974,  0.0705,  0.6518]],\n",
            "\n",
            "        [[ 0.0192,  0.3112, -0.5706,  ..., -0.6247,  0.8528, -0.6230],\n",
            "         [ 0.1264, -0.1215,  0.1734,  ...,  0.7106,  0.1794,  0.4186],\n",
            "         [ 0.2086,  0.8264, -0.5962,  ...,  0.2043, -1.3412,  0.2797],\n",
            "         ...,\n",
            "         [ 0.4864,  0.3056,  0.2133,  ..., -0.1593,  0.6022,  0.2288],\n",
            "         [-0.2700, -0.6756, -0.9403,  ...,  0.1904,  0.6443,  0.3244],\n",
            "         [ 0.1856,  0.0252,  0.1971,  ...,  0.4267,  0.0651, -0.8110]],\n",
            "\n",
            "        [[ 0.6389, -0.4220, -0.8252,  ...,  0.9612, -0.7115,  0.1113],\n",
            "         [-0.5895,  0.4169, -0.4291,  ...,  0.1409,  0.0302,  0.2846],\n",
            "         [-0.6561,  0.5847, -0.7094,  ..., -0.4205, -0.2066,  0.0431],\n",
            "         ...,\n",
            "         [-0.6304, -0.4198, -0.0641,  ...,  0.0459,  1.0716,  0.0565],\n",
            "         [-0.8242, -0.4115, -0.7428,  ...,  0.0415,  0.7887, -1.1743],\n",
            "         [ 0.2815, -0.1094,  0.2511,  ...,  0.5749, -0.7630, -0.4441]]],\n",
            "       device='cuda:0')\n",
            "\n",
            "\n",
            "4bit Simu: tensor([[[ 0.0576, -0.2077,  0.3051,  ...,  1.3100,  0.3744,  0.3632],\n",
            "         [ 1.0749,  0.1501, -0.3710,  ..., -0.9881, -1.1256, -0.4281],\n",
            "         [ 0.2421,  0.7639,  0.2963,  ...,  0.8048,  0.8324,  0.0826],\n",
            "         ...,\n",
            "         [-0.5790,  0.2023,  0.1381,  ..., -0.6778, -0.1002,  0.5439],\n",
            "         [-0.0074,  0.0057,  0.3530,  ...,  0.3919, -0.2465,  0.2174],\n",
            "         [-0.8698,  0.4370,  0.6800,  ...,  0.4989,  0.5026, -0.6213]],\n",
            "\n",
            "        [[ 0.3385,  0.1348,  1.2075,  ..., -0.1444, -0.2536, -0.8356],\n",
            "         [-0.2744, -0.3036, -0.0295,  ..., -0.3876,  0.2959,  0.1513],\n",
            "         [-0.2443, -0.2601,  0.2393,  ..., -0.4745,  0.4991,  0.1958],\n",
            "         ...,\n",
            "         [ 0.7255,  0.2876, -0.0702,  ...,  0.1133, -0.2027,  0.4010],\n",
            "         [ 0.2414, -0.5051,  0.0528,  ...,  0.3480,  0.5173, -0.1497],\n",
            "         [-1.0099,  0.6794, -0.5308,  ...,  0.5565, -0.6654,  0.3604]],\n",
            "\n",
            "        [[-0.1977,  0.3310, -0.4444,  ...,  0.1375, -0.0526, -0.2497],\n",
            "         [-0.8277, -0.6814, -0.5066,  ..., -0.9951, -0.3545,  0.5014],\n",
            "         [ 0.7066,  0.7860, -0.3074,  ...,  0.2811,  0.4063, -0.6210],\n",
            "         ...,\n",
            "         [ 0.0933, -0.2087,  0.0182,  ..., -0.1076,  0.0999,  1.0113],\n",
            "         [ 0.4143,  0.6873, -0.3701,  ..., -1.1786,  0.0308,  0.0594],\n",
            "         [-0.6964,  0.8603,  0.3741,  ...,  1.1830, -1.0004,  0.7743]],\n",
            "\n",
            "        [[ 0.3595, -0.2901,  0.3026,  ...,  0.5052,  0.3736, -0.5812],\n",
            "         [ 0.7225,  0.2785,  0.4274,  ...,  0.8633, -0.0091, -0.7476],\n",
            "         [-1.0628,  0.2519, -0.3305,  ...,  0.6866,  0.7008,  0.1259],\n",
            "         ...,\n",
            "         [-0.5502,  0.5083,  0.1296,  ...,  0.6559, -0.0904,  0.2185],\n",
            "         [ 0.4446, -0.0148,  0.7901,  ..., -0.1502,  0.0876, -0.3184],\n",
            "         [ 0.3364, -0.7745, -0.1242,  ..., -0.5792, -1.3032, -0.1663]],\n",
            "\n",
            "        [[-0.4891,  0.6108,  1.2867,  ...,  0.0988,  0.5416,  0.1184],\n",
            "         [-0.4089,  0.0085, -0.0021,  ..., -1.3703, -0.8224,  0.4911],\n",
            "         [-1.3668, -0.1751, -0.4173,  ...,  0.1267,  0.8479, -0.4629],\n",
            "         ...,\n",
            "         [-0.0924, -1.1354, -0.8424,  ..., -0.6038,  0.4539, -0.3440],\n",
            "         [-0.5999, -0.6979, -0.1794,  ...,  0.1206, -0.2513,  1.0811],\n",
            "         [-0.2831, -0.9040,  0.0148,  ..., -0.1157,  0.1944,  0.1292]]],\n",
            "       device='cuda:0')\n",
            "4bit Kern: tensor([[[ 0.0576, -0.2077,  0.3051,  ...,  1.3100,  0.3744,  0.3632],\n",
            "         [ 1.0749,  0.1501, -0.3710,  ..., -0.9881, -1.1256, -0.4281],\n",
            "         [ 0.2421,  0.7639,  0.2963,  ...,  0.8048,  0.8324,  0.0826],\n",
            "         ...,\n",
            "         [-0.5790,  0.2023,  0.1381,  ..., -0.6778, -0.1002,  0.5439],\n",
            "         [-0.0074,  0.0056,  0.3530,  ...,  0.3919, -0.2465,  0.2174],\n",
            "         [-0.8698,  0.4370,  0.6800,  ...,  0.4989,  0.5026, -0.6213]],\n",
            "\n",
            "        [[ 0.3385,  0.1348,  1.2075,  ..., -0.1444, -0.2536, -0.8356],\n",
            "         [-0.2744, -0.3036, -0.0295,  ..., -0.3876,  0.2959,  0.1513],\n",
            "         [-0.2443, -0.2601,  0.2393,  ..., -0.4745,  0.4991,  0.1958],\n",
            "         ...,\n",
            "         [ 0.7255,  0.2876, -0.0702,  ...,  0.1133, -0.2027,  0.4010],\n",
            "         [ 0.2414, -0.5051,  0.0528,  ...,  0.3480,  0.5173, -0.1497],\n",
            "         [-1.0099,  0.6794, -0.5308,  ...,  0.5565, -0.6654,  0.3604]],\n",
            "\n",
            "        [[-0.1977,  0.3310, -0.4444,  ...,  0.1375, -0.0526, -0.2497],\n",
            "         [-0.8277, -0.6814, -0.5066,  ..., -0.9951, -0.3545,  0.5014],\n",
            "         [ 0.7066,  0.7860, -0.3074,  ...,  0.2811,  0.4063, -0.6210],\n",
            "         ...,\n",
            "         [ 0.0933, -0.2087,  0.0182,  ..., -0.1076,  0.0999,  1.0113],\n",
            "         [ 0.4143,  0.6873, -0.3701,  ..., -1.1786,  0.0308,  0.0594],\n",
            "         [-0.6964,  0.8603,  0.3741,  ...,  1.1830, -1.0004,  0.7743]],\n",
            "\n",
            "        [[ 0.3595, -0.2901,  0.3026,  ...,  0.5052,  0.3736, -0.5812],\n",
            "         [ 0.7225,  0.2785,  0.4274,  ...,  0.8633, -0.0091, -0.7476],\n",
            "         [-1.0628,  0.2519, -0.3305,  ...,  0.6866,  0.7008,  0.1259],\n",
            "         ...,\n",
            "         [-0.5502,  0.5083,  0.1296,  ...,  0.6559, -0.0904,  0.2185],\n",
            "         [ 0.4446, -0.0148,  0.7901,  ..., -0.1502,  0.0876, -0.3184],\n",
            "         [ 0.3364, -0.7745, -0.1242,  ..., -0.5792, -1.3032, -0.1663]],\n",
            "\n",
            "        [[-0.4891,  0.6108,  1.2867,  ...,  0.0988,  0.5416,  0.1184],\n",
            "         [-0.4089,  0.0085, -0.0021,  ..., -1.3703, -0.8224,  0.4911],\n",
            "         [-1.3668, -0.1751, -0.4173,  ...,  0.1267,  0.8478, -0.4629],\n",
            "         ...,\n",
            "         [-0.0924, -1.1354, -0.8424,  ..., -0.6038,  0.4539, -0.3440],\n",
            "         [-0.5999, -0.6979, -0.1794,  ...,  0.1206, -0.2513,  1.0811],\n",
            "         [-0.2831, -0.9040,  0.0148,  ..., -0.1157,  0.1944,  0.1292]]],\n",
            "       device='cuda:0')\n",
            "\n",
            "\n",
            "8bit Simu: tensor([[[ 0.0279,  0.8692,  0.2789,  ...,  0.2803, -0.7688, -0.5113],\n",
            "         [ 0.0435,  0.0029,  0.2315,  ...,  0.5052, -0.1049,  0.2066],\n",
            "         [ 0.7129, -1.0202, -0.1762,  ...,  0.3697, -0.5411,  0.1051],\n",
            "         ...,\n",
            "         [-0.1616, -0.1630, -0.3997,  ..., -0.3663, -0.4045,  0.9866],\n",
            "         [ 0.3395,  0.7375,  0.1280,  ...,  0.4956,  0.3993, -0.5566],\n",
            "         [-0.1903, -0.5387,  1.4593,  ..., -0.6452, -0.7777, -0.2228]],\n",
            "\n",
            "        [[ 0.4329,  0.1698, -1.0673,  ...,  0.1193,  0.3958,  0.4381],\n",
            "         [-0.4057,  0.3288,  1.4126,  ...,  0.1805, -0.0210,  0.2496],\n",
            "         [-0.9749, -0.3207,  0.7052,  ..., -0.7598,  0.0242, -0.0926],\n",
            "         ...,\n",
            "         [ 0.2098, -0.7585, -0.1715,  ..., -0.0065, -0.5727,  0.8217],\n",
            "         [-0.4205,  0.0408,  1.6467,  ...,  0.0499,  0.3525,  0.2511],\n",
            "         [ 0.0201,  0.4938, -0.4224,  ..., -0.2486,  0.4911,  0.4406]],\n",
            "\n",
            "        [[-0.2034, -0.2001,  0.7421,  ..., -0.0919,  0.1877, -0.1651],\n",
            "         [-1.2381, -0.8579, -0.4873,  ..., -0.1659,  0.2121,  0.7833],\n",
            "         [ 1.0435, -0.0062,  0.6226,  ..., -0.2598, -0.4332, -0.3610],\n",
            "         ...,\n",
            "         [ 0.4778, -0.6385,  0.1159,  ...,  0.6620, -0.6541,  0.6425],\n",
            "         [-0.5074, -0.1310, -0.0356,  ..., -0.1931, -0.1205, -1.1040],\n",
            "         [ 0.5051,  1.1051, -0.7005,  ..., -0.0643,  0.2784, -0.1335]],\n",
            "\n",
            "        [[-0.4273, -0.0198,  0.0720,  ...,  0.8090,  0.1299, -0.0225],\n",
            "         [ 0.6034, -0.8286,  0.0063,  ...,  1.1912, -0.5691, -0.1452],\n",
            "         [ 0.0066, -0.5811, -0.1886,  ..., -0.3891, -0.0592,  0.3819],\n",
            "         ...,\n",
            "         [ 0.0676, -0.3868, -1.0780,  ..., -1.0173,  1.6732, -0.5853],\n",
            "         [-0.2277,  0.1256, -0.1540,  ..., -0.6315,  0.3857,  0.5221],\n",
            "         [ 0.7804, -0.0795,  0.0956,  ..., -0.1680,  0.6486,  0.1629]],\n",
            "\n",
            "        [[-0.7981,  0.8447, -0.2351,  ...,  0.7566,  1.1041, -0.8467],\n",
            "         [-0.4469, -0.3101, -0.2591,  ...,  0.0427,  1.2351,  0.9218],\n",
            "         [-0.8934, -0.4002,  1.0641,  ...,  0.3303,  0.2904, -0.8115],\n",
            "         ...,\n",
            "         [ 0.3106,  0.0739, -0.0966,  ...,  0.2079, -0.7000, -0.2899],\n",
            "         [ 0.8412,  0.4284,  0.0459,  ..., -0.6547, -0.2585, -0.4836],\n",
            "         [-0.5391,  0.5875,  0.0875,  ...,  0.1111, -0.1347,  0.8078]]],\n",
            "       device='cuda:0')\n",
            "8bit Kern: tensor([[[ 0.0279,  0.8692,  0.2789,  ...,  0.2803, -0.7688, -0.5113],\n",
            "         [ 0.0435,  0.0029,  0.2315,  ...,  0.5052, -0.1049,  0.2066],\n",
            "         [ 0.7129, -1.0202, -0.1762,  ...,  0.3697, -0.5411,  0.1051],\n",
            "         ...,\n",
            "         [-0.1616, -0.1630, -0.3998,  ..., -0.3663, -0.4045,  0.9866],\n",
            "         [ 0.3395,  0.7375,  0.1280,  ...,  0.4956,  0.3993, -0.5566],\n",
            "         [-0.1903, -0.5387,  1.4593,  ..., -0.6452, -0.7777, -0.2228]],\n",
            "\n",
            "        [[ 0.4329,  0.1698, -1.0673,  ...,  0.1193,  0.3958,  0.4381],\n",
            "         [-0.4057,  0.3288,  1.4126,  ...,  0.1805, -0.0210,  0.2496],\n",
            "         [-0.9749, -0.3207,  0.7052,  ..., -0.7598,  0.0242, -0.0926],\n",
            "         ...,\n",
            "         [ 0.2098, -0.7585, -0.1715,  ..., -0.0065, -0.5727,  0.8217],\n",
            "         [-0.4205,  0.0408,  1.6467,  ...,  0.0499,  0.3525,  0.2511],\n",
            "         [ 0.0201,  0.4938, -0.4224,  ..., -0.2486,  0.4911,  0.4406]],\n",
            "\n",
            "        [[-0.2034, -0.2001,  0.7421,  ..., -0.0919,  0.1877, -0.1651],\n",
            "         [-1.2381, -0.8579, -0.4873,  ..., -0.1659,  0.2121,  0.7833],\n",
            "         [ 1.0435, -0.0062,  0.6226,  ..., -0.2598, -0.4332, -0.3610],\n",
            "         ...,\n",
            "         [ 0.4778, -0.6385,  0.1159,  ...,  0.6620, -0.6541,  0.6425],\n",
            "         [-0.5074, -0.1310, -0.0356,  ..., -0.1931, -0.1205, -1.1040],\n",
            "         [ 0.5051,  1.1051, -0.7005,  ..., -0.0643,  0.2784, -0.1335]],\n",
            "\n",
            "        [[-0.4273, -0.0198,  0.0720,  ...,  0.8090,  0.1299, -0.0225],\n",
            "         [ 0.6034, -0.8286,  0.0063,  ...,  1.1912, -0.5691, -0.1452],\n",
            "         [ 0.0066, -0.5811, -0.1886,  ..., -0.3891, -0.0592,  0.3819],\n",
            "         ...,\n",
            "         [ 0.0676, -0.3868, -1.0780,  ..., -1.0173,  1.6732, -0.5853],\n",
            "         [-0.2277,  0.1256, -0.1540,  ..., -0.6315,  0.3857,  0.5221],\n",
            "         [ 0.7804, -0.0795,  0.0956,  ..., -0.1680,  0.6486,  0.1629]],\n",
            "\n",
            "        [[-0.7981,  0.8447, -0.2351,  ...,  0.7566,  1.1041, -0.8467],\n",
            "         [-0.4469, -0.3101, -0.2591,  ...,  0.0427,  1.2351,  0.9218],\n",
            "         [-0.8934, -0.4002,  1.0641,  ...,  0.3303,  0.2904, -0.8115],\n",
            "         ...,\n",
            "         [ 0.3106,  0.0739, -0.0966,  ...,  0.2079, -0.7000, -0.2899],\n",
            "         [ 0.8412,  0.4284,  0.0459,  ..., -0.6547, -0.2585, -0.4836],\n",
            "         [-0.5391,  0.5875,  0.0875,  ...,  0.1111, -0.1347,  0.8078]]],\n",
            "       device='cuda:0')\n"
          ]
        }
      ],
      "source": [
        "! python setup_cuda.py install && CUDA_VISIBLE_DEVICES=0 && python test_kernel.py\n"
      ]
    },
    {
      "cell_type": "markdown",
      "metadata": {
        "id": "b0gYQ0aFSVTH"
      },
      "source": [
        "### 将BELLE-7B-gptq版本下载到colab\n"
      ]
    },
    {
      "cell_type": "code",
      "execution_count": null,
      "metadata": {
        "colab": {
          "base_uri": "https://localhost:8080/"
        },
        "id": "7r0uotkjFjK8",
        "outputId": "224f5bd7-48a0-435c-a136-c462bcb5a243"
      },
      "outputs": [
        {
          "name": "stdout",
          "output_type": "stream",
          "text": [
            "Updated git hooks.\n",
            "Git LFS initialized.\n",
            "fatal: destination path 'BELLE-7B-gptq' already exists and is not an empty directory.\n"
          ]
        }
      ],
      "source": [
        "\n",
        "!git lfs install && git clone https://huggingface.co/BelleGroup/BELLE-7B-gptq"
      ]
    },
    {
      "cell_type": "code",
      "execution_count": null,
      "metadata": {
        "colab": {
          "base_uri": "https://localhost:8080/"
        },
        "id": "ouZZilIOHr5Y",
        "outputId": "b834c94d-02f4-483c-fd37-83daef253174"
      },
      "outputs": [
        {
          "name": "stdout",
          "output_type": "stream",
          "text": [
            "bloom7b-0.2m-4bit-128g.pt  bloom7b-2m-8bit-128g.pt  special_tokens_map.json\n",
            "bloom7b-0.2m-8bit-128g.pt  config.json\t\t    tokenizer_config.json\n",
            "bloom7b-2m-4bit-128g.pt    README.md\t\t    tokenizer.json\n"
          ]
        }
      ],
      "source": [
        "!ls BELLE-7B-gptq"
      ]
    },
    {
      "cell_type": "code",
      "execution_count": null,
      "metadata": {
        "colab": {
          "base_uri": "https://localhost:8080/"
        },
        "id": "w27oK-ACsagp",
        "outputId": "648ec0c4-f280-4c0b-b1da-03be916d9ffd"
      },
      "outputs": [
        {
          "name": "stdout",
          "output_type": "stream",
          "text": [
            "/content/BELLE/gptq\n"
          ]
        }
      ],
      "source": [
        "!pwd"
      ]
    },
    {
      "cell_type": "code",
      "execution_count": null,
      "metadata": {
        "id": "WXqexFzNfWwS"
      },
      "outputs": [],
      "source": []
    },
    {
      "cell_type": "markdown",
      "metadata": {
        "id": "OnPC00NyyNgH"
      },
      "source": [
        "##   运行下面的cell，然后在Human后面点击输入你和BELLE的对话内容。"
      ]
    },
    {
      "cell_type": "code",
      "execution_count": null,
      "metadata": {
        "colab": {
          "base_uri": "https://localhost:8080/"
        },
        "id": "wno4FIAgZ8CI",
        "outputId": "a8eb6d5b-9ab1-4bb9-f674-3e74618d54dd"
      },
      "outputs": [
        {
          "name": "stdout",
          "output_type": "stream",
          "text": [
            "Loading model ...\n",
            "Done.\n",
            "Human:\n",
            "你是谁？\n",
            "Assistant:\n",
            "\n",
            "2023-04-12 13:34:31.490170: W tensorflow/compiler/tf2tensorrt/utils/py_utils.cc:38] TF-TRT Warning: Could not find TensorRT\n",
            "Human: 你是谁？\n",
            "\n",
            "Assistant: 我是一台计算机程序，名叫Belle，是法语单词“漂亮”翻译成英文的缩写。</s>\n",
            "\n",
            "-------------------------------\n",
            "\n",
            "写一首歌\n",
            "Assistant:\n",
            "\n",
            "Human: 写一首歌\n",
            "\n",
            "Assistant:\n",
            "\n",
            "Verse 1:\n",
            "I was a hermit in the world\n",
            "Lost in my own thoughts\n",
            "But then you came along\n",
            "And made my life complete\n",
            "\n",
            "Chorus:\n",
            "You make me feel alive\n",
            "With your love I can飞\n",
            "I never thought I'd find\n",
            "What I was looking for\n",
            "\n",
            "Verse 2:\n",
            "I was a stranger in my own country\n",
            "Wondering who I was\n",
            "But then I met you\n",
            "And my heart began to sing\n",
            "\n",
            "Chorus:\n",
            "You make me feel alive\n",
            "With your love I can飞\n",
            "I never thought I'd find\n",
            "What I was looking for\n",
            "\n",
            "Bridge:\n",
            "I never thought I'd love again\n",
            "But when I saw you, I knew I had to try\n",
            "I never thought I'd find\n",
            "A love that I could trust\n",
            "\n",
            "Chorus:\n",
            "You make me feel alive\n",
            "With your love I can飞\n",
            "I never thought I'd find\n",
            "What I was looking for\n",
            "\n",
            "Outro:\n",
            "I never thought I'd love again\n",
            "But with you, I feel complete\n",
            "You make me feel alive\n",
            "With your love I can飞</s>\n",
            "\n",
            "-------------------------------\n",
            "\n",
            "用中文写一首歌\n",
            "Assistant:\n",
            "\n",
            "Human: 用中文写一首歌\n",
            "\n",
            "Assistant:\n",
            "\n",
            "Verse 1:\n",
            "我是你的梦\n",
            "你是我的文章\n",
            "我们共同创作出\n",
            "一段动人心弦的旋律\n",
            "\n",
            "Chorus:\n",
            "因为你的存在\n",
            "我的生活变得更加精彩\n",
            "因为有你相伴\n",
            "我不再孤单\n",
            "\n",
            "Verse 2:\n",
            "你的微笑是我每天的动力\n",
            "你的温暖是我每日的支撑\n",
            "我们共同打造这段旋律\n",
            "让我们一起跳起舞来\n",
            "\n",
            "Chorus:\n",
            "因为你的存在\n",
            "我的生活变得更加精彩\n",
            "因为有你相伴\n",
            "我不再孤单\n",
            "\n",
            "Bridge:\n",
            "我们的爱情如音乐般美妙\n",
            "我们的故事如歌词般动人\n",
            "让我们一起创造这段旋律\n",
            "让它永远留在我们的记忆\n",
            "\n",
            "Chorus:\n",
            "因为你的存在\n",
            "我的生活变得更加精彩\n",
            "因为有你相伴\n",
            "我不再孤单\n",
            "\n",
            "Outro:\n",
            "你是我的唯一\n",
            "我们的爱情永存</s>\n",
            "\n",
            "-------------------------------\n",
            "\n"
          ]
        }
      ],
      "source": [
        "! python bloom_inference.py BelleGroup/BELLE-7B-1M  --wbits 8 --groupsize 128 --load  BELLE-7B-gptq/bloom7b-2m-8bit-128g.pt"
      ]
    },
    {
      "cell_type": "code",
      "execution_count": null,
      "metadata": {
        "id": "Xb5qp30PdB5Y"
      },
      "outputs": [],
      "source": []
    }
  ],
  "metadata": {
    "accelerator": "GPU",
    "colab": {
      "machine_shape": "hm",
      "provenance": []
    },
    "gpuClass": "standard",
    "kernelspec": {
      "display_name": "Python 3",
      "name": "python3"
    },
    "language_info": {
      "name": "python"
    }
  },
  "nbformat": 4,
  "nbformat_minor": 0
}
